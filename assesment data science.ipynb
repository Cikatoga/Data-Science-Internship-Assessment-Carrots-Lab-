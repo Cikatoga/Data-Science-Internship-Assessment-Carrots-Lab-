{
 "cells": [
  {
   "cell_type": "code",
   "execution_count": 1,
   "id": "8ca0a7c4",
   "metadata": {},
   "outputs": [
    {
     "name": "stdout",
     "output_type": "stream",
     "text": [
      "Jupyter is working with pandas & numpy\n"
     ]
    }
   ],
   "source": [
    "import pandas as pd\n",
    "import numpy as np\n",
    "\n",
    "print(\"Jupyter is working with pandas & numpy\")\n"
   ]
  },
  {
   "cell_type": "code",
   "execution_count": 35,
   "id": "6f7c8b8a",
   "metadata": {},
   "outputs": [
    {
     "name": "stdout",
     "output_type": "stream",
     "text": [
      "Subscriptions → (129189, 21)\n",
      "Investment → (205969, 16)\n"
     ]
    },
    {
     "data": {
      "application/vnd.microsoft.datawrangler.viewer.v0+json": {
       "columns": [
        {
         "name": "index",
         "rawType": "int64",
         "type": "integer"
        },
        {
         "name": "rc_last_seen_app_user_id_alias",
         "rawType": "object",
         "type": "string"
        },
        {
         "name": "country",
         "rawType": "object",
         "type": "string"
        },
        {
         "name": "product_identifier",
         "rawType": "object",
         "type": "string"
        },
        {
         "name": "start_time",
         "rawType": "datetime64[ns, UTC]",
         "type": "unknown"
        },
        {
         "name": "end_time",
         "rawType": "datetime64[ns, UTC]",
         "type": "unknown"
        },
        {
         "name": "is_auto_renewable",
         "rawType": "bool",
         "type": "boolean"
        },
        {
         "name": "is_trial_period",
         "rawType": "bool",
         "type": "boolean"
        },
        {
         "name": "price_in_usd",
         "rawType": "float64",
         "type": "float"
        },
        {
         "name": "refunded_at",
         "rawType": "datetime64[ns, UTC]",
         "type": "unknown"
        },
        {
         "name": "unsubscribe_detected_at",
         "rawType": "datetime64[ns, UTC]",
         "type": "unknown"
        },
        {
         "name": "renewal_number",
         "rawType": "int64",
         "type": "integer"
        },
        {
         "name": "tax_percentage",
         "rawType": "float64",
         "type": "float"
        },
        {
         "name": "commission_percentage",
         "rawType": "float64",
         "type": "float"
        },
        {
         "name": "first_seen_time",
         "rawType": "object",
         "type": "string"
        },
        {
         "name": "tax_fraction",
         "rawType": "float64",
         "type": "float"
        },
        {
         "name": "commission_fraction",
         "rawType": "float64",
         "type": "float"
        },
        {
         "name": "status",
         "rawType": "object",
         "type": "string"
        },
        {
         "name": "gross_revenue_usd",
         "rawType": "float64",
         "type": "float"
        },
        {
         "name": "platform_commission_usd",
         "rawType": "float64",
         "type": "float"
        },
        {
         "name": "rc_fee_usd",
         "rawType": "float64",
         "type": "float"
        },
        {
         "name": "net_revenue_usd",
         "rawType": "float64",
         "type": "float"
        }
       ],
       "ref": "96fd6441-280b-465e-9179-e1207e3667d0",
       "rows": [
        [
         "0",
         "DE65D0A331AB489B893E50B926D2F16B",
         "US",
         "scanner_standar_1w_1w_io",
         "2024-01-01 00:00:00+00:00",
         "2024-01-08 00:00:00+00:00",
         "True",
         "False",
         "7.99",
         null,
         null,
         "9",
         "0.0",
         "0.15",
         "2025-01-03",
         "0.0",
         "0.15",
         "expired",
         "7.99",
         "1.1985",
         "0.0",
         "6.7915"
        ],
        [
         "1",
         "bae3c1e0-a8cb-11ee-bc96-11fd54535b06",
         "US",
         "scanner_standar_1w_1w_io",
         "2024-01-01 00:00:00+00:00",
         "2024-01-08 00:00:00+00:00",
         "True",
         "False",
         "0.99",
         null,
         "2024-01-10 00:00:00+00:00",
         "0",
         "0.0",
         "0.15",
         "2024-01-01",
         "0.0",
         "0.15",
         "cancelled",
         "0.99",
         "0.1485",
         "0.0",
         "0.8415"
        ],
        [
         "2",
         "2ecae0e0-9254-11ee-9070-d17f2df7e376",
         "US",
         "scanner_standar_1w_1w_io",
         "2024-01-01 00:00:00+00:00",
         "2024-01-08 00:00:00+00:00",
         "True",
         "False",
         "9.99",
         null,
         "2024-02-22 00:00:00+00:00",
         "4",
         "0.0",
         "0.15",
         "2023-12-04",
         "0.0",
         "0.15",
         "cancelled",
         "9.99",
         "1.4985",
         "0.0",
         "8.4915"
        ],
        [
         "3",
         "4eabfe80-867e-11ee-9c9b-abd5a24d82b6",
         "US",
         "scanner_standar_1w_1w_io",
         "2024-01-01 00:00:00+00:00",
         "2024-01-08 00:00:00+00:00",
         "True",
         "False",
         "9.99",
         null,
         null,
         "6",
         "0.0",
         "0.15",
         "2023-11-19",
         "0.0",
         "0.15",
         "expired",
         "9.99",
         "1.4985",
         "0.0",
         "8.4915"
        ],
        [
         "4",
         "e623dc00-66a9-11ee-87c4-3958640dde56",
         "US",
         "scanner_standar_1w_1w_io",
         "2024-01-01 00:00:00+00:00",
         "2024-01-08 00:00:00+00:00",
         "True",
         "False",
         "7.99",
         null,
         "2024-10-17 00:00:00+00:00",
         "12",
         "0.0",
         "0.15",
         "2023-10-09",
         "0.0",
         "0.15",
         "cancelled",
         "7.99",
         "1.1985",
         "0.0",
         "6.7915"
        ]
       ],
       "shape": {
        "columns": 21,
        "rows": 5
       }
      },
      "text/html": [
       "<div>\n",
       "<style scoped>\n",
       "    .dataframe tbody tr th:only-of-type {\n",
       "        vertical-align: middle;\n",
       "    }\n",
       "\n",
       "    .dataframe tbody tr th {\n",
       "        vertical-align: top;\n",
       "    }\n",
       "\n",
       "    .dataframe thead th {\n",
       "        text-align: right;\n",
       "    }\n",
       "</style>\n",
       "<table border=\"1\" class=\"dataframe\">\n",
       "  <thead>\n",
       "    <tr style=\"text-align: right;\">\n",
       "      <th></th>\n",
       "      <th>rc_last_seen_app_user_id_alias</th>\n",
       "      <th>country</th>\n",
       "      <th>product_identifier</th>\n",
       "      <th>start_time</th>\n",
       "      <th>end_time</th>\n",
       "      <th>is_auto_renewable</th>\n",
       "      <th>is_trial_period</th>\n",
       "      <th>price_in_usd</th>\n",
       "      <th>refunded_at</th>\n",
       "      <th>unsubscribe_detected_at</th>\n",
       "      <th>...</th>\n",
       "      <th>tax_percentage</th>\n",
       "      <th>commission_percentage</th>\n",
       "      <th>first_seen_time</th>\n",
       "      <th>tax_fraction</th>\n",
       "      <th>commission_fraction</th>\n",
       "      <th>status</th>\n",
       "      <th>gross_revenue_usd</th>\n",
       "      <th>platform_commission_usd</th>\n",
       "      <th>rc_fee_usd</th>\n",
       "      <th>net_revenue_usd</th>\n",
       "    </tr>\n",
       "  </thead>\n",
       "  <tbody>\n",
       "    <tr>\n",
       "      <th>0</th>\n",
       "      <td>DE65D0A331AB489B893E50B926D2F16B</td>\n",
       "      <td>US</td>\n",
       "      <td>scanner_standar_1w_1w_io</td>\n",
       "      <td>2024-01-01 00:00:00+00:00</td>\n",
       "      <td>2024-01-08 00:00:00+00:00</td>\n",
       "      <td>True</td>\n",
       "      <td>False</td>\n",
       "      <td>7.99</td>\n",
       "      <td>NaT</td>\n",
       "      <td>NaT</td>\n",
       "      <td>...</td>\n",
       "      <td>0.0</td>\n",
       "      <td>0.15</td>\n",
       "      <td>2025-01-03</td>\n",
       "      <td>0.0</td>\n",
       "      <td>0.15</td>\n",
       "      <td>expired</td>\n",
       "      <td>7.99</td>\n",
       "      <td>1.1985</td>\n",
       "      <td>0.0</td>\n",
       "      <td>6.7915</td>\n",
       "    </tr>\n",
       "    <tr>\n",
       "      <th>1</th>\n",
       "      <td>bae3c1e0-a8cb-11ee-bc96-11fd54535b06</td>\n",
       "      <td>US</td>\n",
       "      <td>scanner_standar_1w_1w_io</td>\n",
       "      <td>2024-01-01 00:00:00+00:00</td>\n",
       "      <td>2024-01-08 00:00:00+00:00</td>\n",
       "      <td>True</td>\n",
       "      <td>False</td>\n",
       "      <td>0.99</td>\n",
       "      <td>NaT</td>\n",
       "      <td>2024-01-10 00:00:00+00:00</td>\n",
       "      <td>...</td>\n",
       "      <td>0.0</td>\n",
       "      <td>0.15</td>\n",
       "      <td>2024-01-01</td>\n",
       "      <td>0.0</td>\n",
       "      <td>0.15</td>\n",
       "      <td>cancelled</td>\n",
       "      <td>0.99</td>\n",
       "      <td>0.1485</td>\n",
       "      <td>0.0</td>\n",
       "      <td>0.8415</td>\n",
       "    </tr>\n",
       "    <tr>\n",
       "      <th>2</th>\n",
       "      <td>2ecae0e0-9254-11ee-9070-d17f2df7e376</td>\n",
       "      <td>US</td>\n",
       "      <td>scanner_standar_1w_1w_io</td>\n",
       "      <td>2024-01-01 00:00:00+00:00</td>\n",
       "      <td>2024-01-08 00:00:00+00:00</td>\n",
       "      <td>True</td>\n",
       "      <td>False</td>\n",
       "      <td>9.99</td>\n",
       "      <td>NaT</td>\n",
       "      <td>2024-02-22 00:00:00+00:00</td>\n",
       "      <td>...</td>\n",
       "      <td>0.0</td>\n",
       "      <td>0.15</td>\n",
       "      <td>2023-12-04</td>\n",
       "      <td>0.0</td>\n",
       "      <td>0.15</td>\n",
       "      <td>cancelled</td>\n",
       "      <td>9.99</td>\n",
       "      <td>1.4985</td>\n",
       "      <td>0.0</td>\n",
       "      <td>8.4915</td>\n",
       "    </tr>\n",
       "    <tr>\n",
       "      <th>3</th>\n",
       "      <td>4eabfe80-867e-11ee-9c9b-abd5a24d82b6</td>\n",
       "      <td>US</td>\n",
       "      <td>scanner_standar_1w_1w_io</td>\n",
       "      <td>2024-01-01 00:00:00+00:00</td>\n",
       "      <td>2024-01-08 00:00:00+00:00</td>\n",
       "      <td>True</td>\n",
       "      <td>False</td>\n",
       "      <td>9.99</td>\n",
       "      <td>NaT</td>\n",
       "      <td>NaT</td>\n",
       "      <td>...</td>\n",
       "      <td>0.0</td>\n",
       "      <td>0.15</td>\n",
       "      <td>2023-11-19</td>\n",
       "      <td>0.0</td>\n",
       "      <td>0.15</td>\n",
       "      <td>expired</td>\n",
       "      <td>9.99</td>\n",
       "      <td>1.4985</td>\n",
       "      <td>0.0</td>\n",
       "      <td>8.4915</td>\n",
       "    </tr>\n",
       "    <tr>\n",
       "      <th>4</th>\n",
       "      <td>e623dc00-66a9-11ee-87c4-3958640dde56</td>\n",
       "      <td>US</td>\n",
       "      <td>scanner_standar_1w_1w_io</td>\n",
       "      <td>2024-01-01 00:00:00+00:00</td>\n",
       "      <td>2024-01-08 00:00:00+00:00</td>\n",
       "      <td>True</td>\n",
       "      <td>False</td>\n",
       "      <td>7.99</td>\n",
       "      <td>NaT</td>\n",
       "      <td>2024-10-17 00:00:00+00:00</td>\n",
       "      <td>...</td>\n",
       "      <td>0.0</td>\n",
       "      <td>0.15</td>\n",
       "      <td>2023-10-09</td>\n",
       "      <td>0.0</td>\n",
       "      <td>0.15</td>\n",
       "      <td>cancelled</td>\n",
       "      <td>7.99</td>\n",
       "      <td>1.1985</td>\n",
       "      <td>0.0</td>\n",
       "      <td>6.7915</td>\n",
       "    </tr>\n",
       "  </tbody>\n",
       "</table>\n",
       "<p>5 rows × 21 columns</p>\n",
       "</div>"
      ],
      "text/plain": [
       "         rc_last_seen_app_user_id_alias country        product_identifier  \\\n",
       "0      DE65D0A331AB489B893E50B926D2F16B      US  scanner_standar_1w_1w_io   \n",
       "1  bae3c1e0-a8cb-11ee-bc96-11fd54535b06      US  scanner_standar_1w_1w_io   \n",
       "2  2ecae0e0-9254-11ee-9070-d17f2df7e376      US  scanner_standar_1w_1w_io   \n",
       "3  4eabfe80-867e-11ee-9c9b-abd5a24d82b6      US  scanner_standar_1w_1w_io   \n",
       "4  e623dc00-66a9-11ee-87c4-3958640dde56      US  scanner_standar_1w_1w_io   \n",
       "\n",
       "                 start_time                  end_time  is_auto_renewable  \\\n",
       "0 2024-01-01 00:00:00+00:00 2024-01-08 00:00:00+00:00               True   \n",
       "1 2024-01-01 00:00:00+00:00 2024-01-08 00:00:00+00:00               True   \n",
       "2 2024-01-01 00:00:00+00:00 2024-01-08 00:00:00+00:00               True   \n",
       "3 2024-01-01 00:00:00+00:00 2024-01-08 00:00:00+00:00               True   \n",
       "4 2024-01-01 00:00:00+00:00 2024-01-08 00:00:00+00:00               True   \n",
       "\n",
       "   is_trial_period  price_in_usd refunded_at   unsubscribe_detected_at  ...  \\\n",
       "0            False          7.99         NaT                       NaT  ...   \n",
       "1            False          0.99         NaT 2024-01-10 00:00:00+00:00  ...   \n",
       "2            False          9.99         NaT 2024-02-22 00:00:00+00:00  ...   \n",
       "3            False          9.99         NaT                       NaT  ...   \n",
       "4            False          7.99         NaT 2024-10-17 00:00:00+00:00  ...   \n",
       "\n",
       "   tax_percentage  commission_percentage  first_seen_time tax_fraction  \\\n",
       "0             0.0                   0.15       2025-01-03          0.0   \n",
       "1             0.0                   0.15       2024-01-01          0.0   \n",
       "2             0.0                   0.15       2023-12-04          0.0   \n",
       "3             0.0                   0.15       2023-11-19          0.0   \n",
       "4             0.0                   0.15       2023-10-09          0.0   \n",
       "\n",
       "   commission_fraction     status gross_revenue_usd  platform_commission_usd  \\\n",
       "0                 0.15    expired              7.99                   1.1985   \n",
       "1                 0.15  cancelled              0.99                   0.1485   \n",
       "2                 0.15  cancelled              9.99                   1.4985   \n",
       "3                 0.15    expired              9.99                   1.4985   \n",
       "4                 0.15  cancelled              7.99                   1.1985   \n",
       "\n",
       "   rc_fee_usd  net_revenue_usd  \n",
       "0         0.0           6.7915  \n",
       "1         0.0           0.8415  \n",
       "2         0.0           8.4915  \n",
       "3         0.0           8.4915  \n",
       "4         0.0           6.7915  \n",
       "\n",
       "[5 rows x 21 columns]"
      ]
     },
     "metadata": {},
     "output_type": "display_data"
    },
    {
     "data": {
      "application/vnd.microsoft.datawrangler.viewer.v0+json": {
       "columns": [
        {
         "name": "index",
         "rawType": "int64",
         "type": "integer"
        },
        {
         "name": "event_date",
         "rawType": "datetime64[ns]",
         "type": "datetime"
        },
        {
         "name": "country_code",
         "rawType": "object",
         "type": "string"
        },
        {
         "name": "campaign_name",
         "rawType": "object",
         "type": "string"
        },
        {
         "name": "campaign_id",
         "rawType": "int64",
         "type": "integer"
        },
        {
         "name": "ad_group_name",
         "rawType": "object",
         "type": "string"
        },
        {
         "name": "ad_group_id",
         "rawType": "int64",
         "type": "integer"
        },
        {
         "name": "keyword_name",
         "rawType": "object",
         "type": "string"
        },
        {
         "name": "keyword_id",
         "rawType": "object",
         "type": "string"
        },
        {
         "name": "impressions",
         "rawType": "int64",
         "type": "integer"
        },
        {
         "name": "clicks",
         "rawType": "int64",
         "type": "integer"
        },
        {
         "name": "investment",
         "rawType": "float64",
         "type": "float"
        },
        {
         "name": "ctr",
         "rawType": "float64",
         "type": "float"
        },
        {
         "name": "cpc",
         "rawType": "float64",
         "type": "float"
        },
        {
         "name": "cpm",
         "rawType": "float64",
         "type": "float"
        },
        {
         "name": "event_month",
         "rawType": "object",
         "type": "string"
        },
        {
         "name": "week",
         "rawType": "int64",
         "type": "integer"
        }
       ],
       "ref": "5d42b3c0-a4fa-4da3-bcad-23280a19c72e",
       "rows": [
        [
         "0",
         "2024-01-01 00:00:00",
         "US",
         "RSA_tCPS_US_Scan",
         "20255977080",
         "picture",
         "145286375250",
         "iphone picture to scan",
         "1227329160462",
         "2",
         "1",
         "0.45",
         "0.5",
         "0.45",
         "225.0",
         "2024-01-01",
         "1"
        ],
        [
         "1",
         "2024-01-01 00:00:00",
         "US",
         "RSA_tCPS_US_Scan",
         "20255977080",
         "picture",
         "145286375250",
         "picture scanner",
         "275780960",
         "2",
         "0",
         "0.0",
         "0.0",
         null,
         "0.0",
         "2024-01-01",
         "1"
        ],
        [
         "2",
         "2024-01-01 00:00:00",
         "US",
         "RSA_tCPS_US_Scan",
         "20255977080",
         "picture",
         "145286375250",
         "digitize pictures",
         "52145833",
         "4",
         "1",
         "0.71",
         "0.25",
         "0.71",
         "177.5",
         "2024-01-01",
         "1"
        ],
        [
         "3",
         "2024-01-01 00:00:00",
         "US",
         "RSA_tCPS_US_Scan",
         "20255977080",
         "document",
         "147922552057",
         "free document scan app for iphone",
         "1009803931423",
         "1",
         "0",
         "0.0",
         "0.0",
         null,
         "0.0",
         "2024-01-01",
         "1"
        ],
        [
         "4",
         "2024-01-01 00:00:00",
         "US",
         "RSA_tCPS_US_Scan",
         "20255977080",
         "document",
         "147922552057",
         "scan document",
         "10524483",
         "82",
         "3",
         "3.84",
         "0.0365853658536585",
         "1.28",
         "46.829268292682926",
         "2024-01-01",
         "1"
        ]
       ],
       "shape": {
        "columns": 16,
        "rows": 5
       }
      },
      "text/html": [
       "<div>\n",
       "<style scoped>\n",
       "    .dataframe tbody tr th:only-of-type {\n",
       "        vertical-align: middle;\n",
       "    }\n",
       "\n",
       "    .dataframe tbody tr th {\n",
       "        vertical-align: top;\n",
       "    }\n",
       "\n",
       "    .dataframe thead th {\n",
       "        text-align: right;\n",
       "    }\n",
       "</style>\n",
       "<table border=\"1\" class=\"dataframe\">\n",
       "  <thead>\n",
       "    <tr style=\"text-align: right;\">\n",
       "      <th></th>\n",
       "      <th>event_date</th>\n",
       "      <th>country_code</th>\n",
       "      <th>campaign_name</th>\n",
       "      <th>campaign_id</th>\n",
       "      <th>ad_group_name</th>\n",
       "      <th>ad_group_id</th>\n",
       "      <th>keyword_name</th>\n",
       "      <th>keyword_id</th>\n",
       "      <th>impressions</th>\n",
       "      <th>clicks</th>\n",
       "      <th>investment</th>\n",
       "      <th>ctr</th>\n",
       "      <th>cpc</th>\n",
       "      <th>cpm</th>\n",
       "      <th>event_month</th>\n",
       "      <th>week</th>\n",
       "    </tr>\n",
       "  </thead>\n",
       "  <tbody>\n",
       "    <tr>\n",
       "      <th>0</th>\n",
       "      <td>2024-01-01</td>\n",
       "      <td>US</td>\n",
       "      <td>RSA_tCPS_US_Scan</td>\n",
       "      <td>20255977080</td>\n",
       "      <td>picture</td>\n",
       "      <td>145286375250</td>\n",
       "      <td>iphone picture to scan</td>\n",
       "      <td>1227329160462</td>\n",
       "      <td>2</td>\n",
       "      <td>1</td>\n",
       "      <td>0.45</td>\n",
       "      <td>0.500000</td>\n",
       "      <td>0.45</td>\n",
       "      <td>225.000000</td>\n",
       "      <td>2024-01-01</td>\n",
       "      <td>1</td>\n",
       "    </tr>\n",
       "    <tr>\n",
       "      <th>1</th>\n",
       "      <td>2024-01-01</td>\n",
       "      <td>US</td>\n",
       "      <td>RSA_tCPS_US_Scan</td>\n",
       "      <td>20255977080</td>\n",
       "      <td>picture</td>\n",
       "      <td>145286375250</td>\n",
       "      <td>picture scanner</td>\n",
       "      <td>275780960</td>\n",
       "      <td>2</td>\n",
       "      <td>0</td>\n",
       "      <td>0.00</td>\n",
       "      <td>0.000000</td>\n",
       "      <td>NaN</td>\n",
       "      <td>0.000000</td>\n",
       "      <td>2024-01-01</td>\n",
       "      <td>1</td>\n",
       "    </tr>\n",
       "    <tr>\n",
       "      <th>2</th>\n",
       "      <td>2024-01-01</td>\n",
       "      <td>US</td>\n",
       "      <td>RSA_tCPS_US_Scan</td>\n",
       "      <td>20255977080</td>\n",
       "      <td>picture</td>\n",
       "      <td>145286375250</td>\n",
       "      <td>digitize pictures</td>\n",
       "      <td>52145833</td>\n",
       "      <td>4</td>\n",
       "      <td>1</td>\n",
       "      <td>0.71</td>\n",
       "      <td>0.250000</td>\n",
       "      <td>0.71</td>\n",
       "      <td>177.500000</td>\n",
       "      <td>2024-01-01</td>\n",
       "      <td>1</td>\n",
       "    </tr>\n",
       "    <tr>\n",
       "      <th>3</th>\n",
       "      <td>2024-01-01</td>\n",
       "      <td>US</td>\n",
       "      <td>RSA_tCPS_US_Scan</td>\n",
       "      <td>20255977080</td>\n",
       "      <td>document</td>\n",
       "      <td>147922552057</td>\n",
       "      <td>free document scan app for iphone</td>\n",
       "      <td>1009803931423</td>\n",
       "      <td>1</td>\n",
       "      <td>0</td>\n",
       "      <td>0.00</td>\n",
       "      <td>0.000000</td>\n",
       "      <td>NaN</td>\n",
       "      <td>0.000000</td>\n",
       "      <td>2024-01-01</td>\n",
       "      <td>1</td>\n",
       "    </tr>\n",
       "    <tr>\n",
       "      <th>4</th>\n",
       "      <td>2024-01-01</td>\n",
       "      <td>US</td>\n",
       "      <td>RSA_tCPS_US_Scan</td>\n",
       "      <td>20255977080</td>\n",
       "      <td>document</td>\n",
       "      <td>147922552057</td>\n",
       "      <td>scan document</td>\n",
       "      <td>10524483</td>\n",
       "      <td>82</td>\n",
       "      <td>3</td>\n",
       "      <td>3.84</td>\n",
       "      <td>0.036585</td>\n",
       "      <td>1.28</td>\n",
       "      <td>46.829268</td>\n",
       "      <td>2024-01-01</td>\n",
       "      <td>1</td>\n",
       "    </tr>\n",
       "  </tbody>\n",
       "</table>\n",
       "</div>"
      ],
      "text/plain": [
       "  event_date country_code     campaign_name  campaign_id ad_group_name  \\\n",
       "0 2024-01-01           US  RSA_tCPS_US_Scan  20255977080       picture   \n",
       "1 2024-01-01           US  RSA_tCPS_US_Scan  20255977080       picture   \n",
       "2 2024-01-01           US  RSA_tCPS_US_Scan  20255977080       picture   \n",
       "3 2024-01-01           US  RSA_tCPS_US_Scan  20255977080      document   \n",
       "4 2024-01-01           US  RSA_tCPS_US_Scan  20255977080      document   \n",
       "\n",
       "    ad_group_id                       keyword_name     keyword_id  \\\n",
       "0  145286375250             iphone picture to scan  1227329160462   \n",
       "1  145286375250                    picture scanner      275780960   \n",
       "2  145286375250                  digitize pictures       52145833   \n",
       "3  147922552057  free document scan app for iphone  1009803931423   \n",
       "4  147922552057                      scan document       10524483   \n",
       "\n",
       "   impressions  clicks  investment       ctr   cpc         cpm event_month  \\\n",
       "0            2       1        0.45  0.500000  0.45  225.000000  2024-01-01   \n",
       "1            2       0        0.00  0.000000   NaN    0.000000  2024-01-01   \n",
       "2            4       1        0.71  0.250000  0.71  177.500000  2024-01-01   \n",
       "3            1       0        0.00  0.000000   NaN    0.000000  2024-01-01   \n",
       "4           82       3        3.84  0.036585  1.28   46.829268  2024-01-01   \n",
       "\n",
       "   week  \n",
       "0     1  \n",
       "1     1  \n",
       "2     1  \n",
       "3     1  \n",
       "4     1  "
      ]
     },
     "metadata": {},
     "output_type": "display_data"
    }
   ],
   "source": [
    "from pathlib import Path\n",
    "import pandas as pd\n",
    "\n",
    "BASE = Path().resolve()\n",
    "subs_path = BASE / \"data/processed/suscripciones_clean.csv\"\n",
    "inv_path  = BASE / \"data/processed/investment_clean.csv\"\n",
    "\n",
    "subs = pd.read_csv(\n",
    "    subs_path,\n",
    "    parse_dates=[\"start_time\",\"end_time\",\"refunded_at\",\"unsubscribe_detected_at\"],\n",
    "    low_memory=False\n",
    ")\n",
    "\n",
    "invest = pd.read_csv(\n",
    "    inv_path,\n",
    "    parse_dates=[\"event_date\"],\n",
    "    low_memory=False\n",
    ")\n",
    "\n",
    "print(\"Subscriptions →\", subs.shape)\n",
    "print(\"Investment →\", invest.shape)\n",
    "\n",
    "display(subs.head(5))\n",
    "display(invest.head(5))\n",
    "\n"
   ]
  },
  {
   "cell_type": "code",
   "execution_count": 20,
   "id": "16ce14b8",
   "metadata": {},
   "outputs": [
    {
     "data": {
      "application/vnd.microsoft.datawrangler.viewer.v0+json": {
       "columns": [
        {
         "name": "index",
         "rawType": "int64",
         "type": "integer"
        },
        {
         "name": "month",
         "rawType": "datetime64[ns]",
         "type": "datetime"
        },
        {
         "name": "monthly_revenue_usd",
         "rawType": "float64",
         "type": "float"
        }
       ],
       "ref": "a84a947b-49c0-4079-ac5d-5900490ee4b5",
       "rows": [
        [
         "1",
         "2024-01-01 00:00:00",
         "54069.812771847035"
        ],
        [
         "2",
         "2024-02-01 00:00:00",
         "58545.84360143193"
        ],
        [
         "3",
         "2024-03-01 00:00:00",
         "63337.960773686405"
        ],
        [
         "4",
         "2024-04-01 00:00:00",
         "63839.052022420095"
        ],
        [
         "5",
         "2024-05-01 00:00:00",
         "77918.61513752547"
        ],
        [
         "6",
         "2024-06-01 00:00:00",
         "79236.88786735189"
        ],
        [
         "7",
         "2024-07-01 00:00:00",
         "102786.83372853074"
        ],
        [
         "8",
         "2024-08-01 00:00:00",
         "94636.02790722261"
        ],
        [
         "9",
         "2024-09-01 00:00:00",
         "84816.92509427115"
        ],
        [
         "10",
         "2024-10-01 00:00:00",
         "77221.99907257705"
        ],
        [
         "11",
         "2024-11-01 00:00:00",
         "72143.51934395256"
        ],
        [
         "12",
         "2024-12-01 00:00:00",
         "79577.31878081258"
        ]
       ],
       "shape": {
        "columns": 2,
        "rows": 12
       }
      },
      "text/html": [
       "<div>\n",
       "<style scoped>\n",
       "    .dataframe tbody tr th:only-of-type {\n",
       "        vertical-align: middle;\n",
       "    }\n",
       "\n",
       "    .dataframe tbody tr th {\n",
       "        vertical-align: top;\n",
       "    }\n",
       "\n",
       "    .dataframe thead th {\n",
       "        text-align: right;\n",
       "    }\n",
       "</style>\n",
       "<table border=\"1\" class=\"dataframe\">\n",
       "  <thead>\n",
       "    <tr style=\"text-align: right;\">\n",
       "      <th></th>\n",
       "      <th>month</th>\n",
       "      <th>monthly_revenue_usd</th>\n",
       "    </tr>\n",
       "  </thead>\n",
       "  <tbody>\n",
       "    <tr>\n",
       "      <th>1</th>\n",
       "      <td>2024-01-01</td>\n",
       "      <td>54069.812772</td>\n",
       "    </tr>\n",
       "    <tr>\n",
       "      <th>2</th>\n",
       "      <td>2024-02-01</td>\n",
       "      <td>58545.843601</td>\n",
       "    </tr>\n",
       "    <tr>\n",
       "      <th>3</th>\n",
       "      <td>2024-03-01</td>\n",
       "      <td>63337.960774</td>\n",
       "    </tr>\n",
       "    <tr>\n",
       "      <th>4</th>\n",
       "      <td>2024-04-01</td>\n",
       "      <td>63839.052022</td>\n",
       "    </tr>\n",
       "    <tr>\n",
       "      <th>5</th>\n",
       "      <td>2024-05-01</td>\n",
       "      <td>77918.615138</td>\n",
       "    </tr>\n",
       "    <tr>\n",
       "      <th>6</th>\n",
       "      <td>2024-06-01</td>\n",
       "      <td>79236.887867</td>\n",
       "    </tr>\n",
       "    <tr>\n",
       "      <th>7</th>\n",
       "      <td>2024-07-01</td>\n",
       "      <td>102786.833729</td>\n",
       "    </tr>\n",
       "    <tr>\n",
       "      <th>8</th>\n",
       "      <td>2024-08-01</td>\n",
       "      <td>94636.027907</td>\n",
       "    </tr>\n",
       "    <tr>\n",
       "      <th>9</th>\n",
       "      <td>2024-09-01</td>\n",
       "      <td>84816.925094</td>\n",
       "    </tr>\n",
       "    <tr>\n",
       "      <th>10</th>\n",
       "      <td>2024-10-01</td>\n",
       "      <td>77221.999073</td>\n",
       "    </tr>\n",
       "    <tr>\n",
       "      <th>11</th>\n",
       "      <td>2024-11-01</td>\n",
       "      <td>72143.519344</td>\n",
       "    </tr>\n",
       "    <tr>\n",
       "      <th>12</th>\n",
       "      <td>2024-12-01</td>\n",
       "      <td>79577.318781</td>\n",
       "    </tr>\n",
       "  </tbody>\n",
       "</table>\n",
       "</div>"
      ],
      "text/plain": [
       "        month  monthly_revenue_usd\n",
       "1  2024-01-01         54069.812772\n",
       "2  2024-02-01         58545.843601\n",
       "3  2024-03-01         63337.960774\n",
       "4  2024-04-01         63839.052022\n",
       "5  2024-05-01         77918.615138\n",
       "6  2024-06-01         79236.887867\n",
       "7  2024-07-01        102786.833729\n",
       "8  2024-08-01         94636.027907\n",
       "9  2024-09-01         84816.925094\n",
       "10 2024-10-01         77221.999073\n",
       "11 2024-11-01         72143.519344\n",
       "12 2024-12-01         79577.318781"
      ]
     },
     "metadata": {},
     "output_type": "display_data"
    },
    {
     "data": {
      "image/png": "[encoded data removed]",
      "text/plain": [
       "<Figure size 800x300 with 1 Axes>"
      ]
     },
     "metadata": {},
     "output_type": "display_data"
    }
   ],
   "source": [
    "# Monthly revenue\n",
    "\n",
    "import matplotlib.pyplot as plt\n",
    "\n",
    "subs[\"month\"] = subs[\"start_time\"].dt.tz_localize(None).dt.to_period(\"M\").dt.to_timestamp()\n",
    "\n",
    "monthly_rev = (\n",
    "    subs.groupby(\"month\", as_index=False)[\"net_revenue_usd\"]\n",
    "        .sum()\n",
    "        .rename(columns={\"net_revenue_usd\": \"monthly_revenue_usd\"})\n",
    ")\n",
    "\n",
    "monthly_rev.index = monthly_rev.index + 1\n",
    "\n",
    "display(monthly_rev.head(12))\n",
    "\n",
    "plt.figure(figsize=(8,3))\n",
    "plt.plot(monthly_rev[\"month\"], monthly_rev[\"monthly_revenue_usd\"], marker=\"o\")\n",
    "plt.title(\"Monthly Revenue (USD)\")\n",
    "plt.xlabel(\"Month\"); plt.ylabel(\"Revenue (USD)\")\n",
    "plt.xticks(rotation=45); plt.tight_layout(); plt.show()"
   ]
  },
  {
   "cell_type": "code",
   "execution_count": 53,
   "id": "f0b4c4c1",
   "metadata": {},
   "outputs": [
    {
     "data": {
      "application/vnd.microsoft.datawrangler.viewer.v0+json": {
       "columns": [
        {
         "name": "index",
         "rawType": "int64",
         "type": "integer"
        },
        {
         "name": "index",
         "rawType": "int64",
         "type": "integer"
        },
        {
         "name": "product_identifier",
         "rawType": "object",
         "type": "string"
        },
        {
         "name": "net_revenue_usd",
         "rawType": "float64",
         "type": "float"
        }
       ],
       "ref": "9a39a2a4-283c-4bc4-90f7-21097aa782f9",
       "rows": [
        [
         "1",
         "4",
         "scanner_standar_1w_1w_io",
         "679809.4274922423"
        ],
        [
         "2",
         "8",
         "scanner_standard_1y",
         "94952.20629994432"
        ],
        [
         "3",
         "0",
         "1wt_1w_gold_a",
         "90449.95941684526"
        ],
        [
         "4",
         "3",
         "1y_gold_a",
         "32967.89822713373"
        ],
        [
         "5",
         "11",
         "scanner_standard_3d_1y",
         "4339.032206750872"
        ],
        [
         "6",
         "1",
         "1wt_1w_gold_b",
         "1219.4535876875796"
        ],
        [
         "7",
         "5",
         "scanner_standard_1m",
         "1166.8322413104838"
        ],
        [
         "8",
         "9",
         "scanner_standard_1y_50discount",
         "1132.0910007390519"
        ],
        [
         "9",
         "2",
         "1wt_1w_gold_c",
         "952.6611257279793"
        ],
        [
         "10",
         "6",
         "scanner_standard_1w_1w_B",
         "720.6415707571098"
        ]
       ],
       "shape": {
        "columns": 3,
        "rows": 10
       }
      },
      "text/html": [
       "<div>\n",
       "<style scoped>\n",
       "    .dataframe tbody tr th:only-of-type {\n",
       "        vertical-align: middle;\n",
       "    }\n",
       "\n",
       "    .dataframe tbody tr th {\n",
       "        vertical-align: top;\n",
       "    }\n",
       "\n",
       "    .dataframe thead th {\n",
       "        text-align: right;\n",
       "    }\n",
       "</style>\n",
       "<table border=\"1\" class=\"dataframe\">\n",
       "  <thead>\n",
       "    <tr style=\"text-align: right;\">\n",
       "      <th></th>\n",
       "      <th>index</th>\n",
       "      <th>product_identifier</th>\n",
       "      <th>net_revenue_usd</th>\n",
       "    </tr>\n",
       "  </thead>\n",
       "  <tbody>\n",
       "    <tr>\n",
       "      <th>1</th>\n",
       "      <td>4</td>\n",
       "      <td>scanner_standar_1w_1w_io</td>\n",
       "      <td>679809.427492</td>\n",
       "    </tr>\n",
       "    <tr>\n",
       "      <th>2</th>\n",
       "      <td>8</td>\n",
       "      <td>scanner_standard_1y</td>\n",
       "      <td>94952.206300</td>\n",
       "    </tr>\n",
       "    <tr>\n",
       "      <th>3</th>\n",
       "      <td>0</td>\n",
       "      <td>1wt_1w_gold_a</td>\n",
       "      <td>90449.959417</td>\n",
       "    </tr>\n",
       "    <tr>\n",
       "      <th>4</th>\n",
       "      <td>3</td>\n",
       "      <td>1y_gold_a</td>\n",
       "      <td>32967.898227</td>\n",
       "    </tr>\n",
       "    <tr>\n",
       "      <th>5</th>\n",
       "      <td>11</td>\n",
       "      <td>scanner_standard_3d_1y</td>\n",
       "      <td>4339.032207</td>\n",
       "    </tr>\n",
       "    <tr>\n",
       "      <th>6</th>\n",
       "      <td>1</td>\n",
       "      <td>1wt_1w_gold_b</td>\n",
       "      <td>1219.453588</td>\n",
       "    </tr>\n",
       "    <tr>\n",
       "      <th>7</th>\n",
       "      <td>5</td>\n",
       "      <td>scanner_standard_1m</td>\n",
       "      <td>1166.832241</td>\n",
       "    </tr>\n",
       "    <tr>\n",
       "      <th>8</th>\n",
       "      <td>9</td>\n",
       "      <td>scanner_standard_1y_50discount</td>\n",
       "      <td>1132.091001</td>\n",
       "    </tr>\n",
       "    <tr>\n",
       "      <th>9</th>\n",
       "      <td>2</td>\n",
       "      <td>1wt_1w_gold_c</td>\n",
       "      <td>952.661126</td>\n",
       "    </tr>\n",
       "    <tr>\n",
       "      <th>10</th>\n",
       "      <td>6</td>\n",
       "      <td>scanner_standard_1w_1w_B</td>\n",
       "      <td>720.641571</td>\n",
       "    </tr>\n",
       "  </tbody>\n",
       "</table>\n",
       "</div>"
      ],
      "text/plain": [
       "    index              product_identifier  net_revenue_usd\n",
       "1       4        scanner_standar_1w_1w_io    679809.427492\n",
       "2       8             scanner_standard_1y     94952.206300\n",
       "3       0                   1wt_1w_gold_a     90449.959417\n",
       "4       3                       1y_gold_a     32967.898227\n",
       "5      11          scanner_standard_3d_1y      4339.032207\n",
       "6       1                   1wt_1w_gold_b      1219.453588\n",
       "7       5             scanner_standard_1m      1166.832241\n",
       "8       9  scanner_standard_1y_50discount      1132.091001\n",
       "9       2                   1wt_1w_gold_c       952.661126\n",
       "10      6        scanner_standard_1w_1w_B       720.641571"
      ]
     },
     "metadata": {},
     "output_type": "display_data"
    },
    {
     "data": {
      "image/png": "[encoded data removed]",
      "text/plain": [
       "<Figure size 800x400 with 1 Axes>"
      ]
     },
     "metadata": {},
     "output_type": "display_data"
    }
   ],
   "source": [
    "#Revenue per product\n",
    "\n",
    "rev_product = (\n",
    "    subs.groupby(\"product_identifier\", as_index=False)[\"net_revenue_usd\"]\n",
    "        .sum()\n",
    "        .sort_values(by=\"net_revenue_usd\", ascending=False)\n",
    "        .reset_index()  \n",
    ")\n",
    "\n",
    "rev_product.index = rev_product.index + 1\n",
    "\n",
    "display(rev_product.head(10))\n",
    "\n",
    "\n",
    "import matplotlib.pyplot as plt\n",
    "\n",
    "plt.figure(figsize=(8,4))\n",
    "plt.bar(rev_product[\"product_identifier\"].head(10), rev_product[\"net_revenue_usd\"].head(10))\n",
    "plt.title(\"Top 10 products by revenue\")\n",
    "plt.xlabel(\"Product\")\n",
    "plt.ylabel(\"Revenue (USD)\")\n",
    "plt.xticks(rotation=45)\n",
    "plt.tight_layout()\n",
    "plt.show()\n"
   ]
  },
  {
   "cell_type": "code",
   "execution_count": 51,
   "id": "05ce0cb6",
   "metadata": {},
   "outputs": [
    {
     "data": {
      "application/vnd.microsoft.datawrangler.viewer.v0+json": {
       "columns": [
        {
         "name": "index",
         "rawType": "int64",
         "type": "integer"
        },
        {
         "name": "product_identifier",
         "rawType": "object",
         "type": "string"
        },
        {
         "name": "unique_users",
         "rawType": "int64",
         "type": "integer"
        }
       ],
       "ref": "1f445cfd-4ffa-467a-8e25-95020575292d",
       "rows": [
        [
         "1",
         "scanner_standar_1w_1w_io",
         "27925"
        ],
        [
         "2",
         "1wt_1w_gold_a",
         "6985"
        ],
        [
         "3",
         "scanner_standard_1y",
         "2269"
        ],
        [
         "4",
         "1y_gold_a",
         "723"
        ],
        [
         "5",
         "1wt_1w_gold_c",
         "263"
        ],
        [
         "6",
         "1wt_1w_gold_b",
         "228"
        ],
        [
         "7",
         "scanner_standard_3d_1y",
         "111"
        ],
        [
         "8",
         "scanner_standard_1y_50discount",
         "58"
        ],
        [
         "9",
         "scanner_standard_1m",
         "35"
        ],
        [
         "10",
         "scanner_standard_1w_1w_B",
         "32"
        ]
       ],
       "shape": {
        "columns": 2,
        "rows": 10
       }
      },
      "text/html": [
       "<div>\n",
       "<style scoped>\n",
       "    .dataframe tbody tr th:only-of-type {\n",
       "        vertical-align: middle;\n",
       "    }\n",
       "\n",
       "    .dataframe tbody tr th {\n",
       "        vertical-align: top;\n",
       "    }\n",
       "\n",
       "    .dataframe thead th {\n",
       "        text-align: right;\n",
       "    }\n",
       "</style>\n",
       "<table border=\"1\" class=\"dataframe\">\n",
       "  <thead>\n",
       "    <tr style=\"text-align: right;\">\n",
       "      <th></th>\n",
       "      <th>product_identifier</th>\n",
       "      <th>unique_users</th>\n",
       "    </tr>\n",
       "  </thead>\n",
       "  <tbody>\n",
       "    <tr>\n",
       "      <th>1</th>\n",
       "      <td>scanner_standar_1w_1w_io</td>\n",
       "      <td>27925</td>\n",
       "    </tr>\n",
       "    <tr>\n",
       "      <th>2</th>\n",
       "      <td>1wt_1w_gold_a</td>\n",
       "      <td>6985</td>\n",
       "    </tr>\n",
       "    <tr>\n",
       "      <th>3</th>\n",
       "      <td>scanner_standard_1y</td>\n",
       "      <td>2269</td>\n",
       "    </tr>\n",
       "    <tr>\n",
       "      <th>4</th>\n",
       "      <td>1y_gold_a</td>\n",
       "      <td>723</td>\n",
       "    </tr>\n",
       "    <tr>\n",
       "      <th>5</th>\n",
       "      <td>1wt_1w_gold_c</td>\n",
       "      <td>263</td>\n",
       "    </tr>\n",
       "    <tr>\n",
       "      <th>6</th>\n",
       "      <td>1wt_1w_gold_b</td>\n",
       "      <td>228</td>\n",
       "    </tr>\n",
       "    <tr>\n",
       "      <th>7</th>\n",
       "      <td>scanner_standard_3d_1y</td>\n",
       "      <td>111</td>\n",
       "    </tr>\n",
       "    <tr>\n",
       "      <th>8</th>\n",
       "      <td>scanner_standard_1y_50discount</td>\n",
       "      <td>58</td>\n",
       "    </tr>\n",
       "    <tr>\n",
       "      <th>9</th>\n",
       "      <td>scanner_standard_1m</td>\n",
       "      <td>35</td>\n",
       "    </tr>\n",
       "    <tr>\n",
       "      <th>10</th>\n",
       "      <td>scanner_standard_1w_1w_B</td>\n",
       "      <td>32</td>\n",
       "    </tr>\n",
       "  </tbody>\n",
       "</table>\n",
       "</div>"
      ],
      "text/plain": [
       "                product_identifier  unique_users\n",
       "1         scanner_standar_1w_1w_io         27925\n",
       "2                    1wt_1w_gold_a          6985\n",
       "3              scanner_standard_1y          2269\n",
       "4                        1y_gold_a           723\n",
       "5                    1wt_1w_gold_c           263\n",
       "6                    1wt_1w_gold_b           228\n",
       "7           scanner_standard_3d_1y           111\n",
       "8   scanner_standard_1y_50discount            58\n",
       "9              scanner_standard_1m            35\n",
       "10        scanner_standard_1w_1w_B            32"
      ]
     },
     "metadata": {},
     "output_type": "display_data"
    },
    {
     "data": {
      "image/png": "[encoded data removed]",
      "text/plain": [
       "<Figure size 800x300 with 1 Axes>"
      ]
     },
     "metadata": {},
     "output_type": "display_data"
    }
   ],
   "source": [
    "#Users per product\n",
    "\n",
    "users_product = (\n",
    "    subs.groupby(\"product_identifier\")[\"rc_last_seen_app_user_id_alias\"]\n",
    "        .nunique()\n",
    "        .sort_values(ascending=False)\n",
    "        .reset_index(name=\"unique_users\")\n",
    ")\n",
    "\n",
    "users_product.index = users_product.index + 1\n",
    "\n",
    "display(users_product.head(10))\n",
    "\n",
    "\n",
    "import matplotlib.pyplot as plt\n",
    "\n",
    "plt.figure(figsize=(8,3))\n",
    "plt.bar(users_product[\"product_identifier\"].head(10), users_product[\"unique_users\"].head(10))\n",
    "plt.title(\"Top 10 products by number of unique users\")\n",
    "plt.xlabel(\"Product\")\n",
    "plt.ylabel(\"Unique users\")\n",
    "plt.xticks(rotation=45)\n",
    "plt.tight_layout()\n",
    "plt.show()\n",
    "\n",
    "\n"
   ]
  },
  {
   "cell_type": "code",
   "execution_count": 36,
   "id": "2bcd08d4",
   "metadata": {},
   "outputs": [
    {
     "data": {
      "application/vnd.microsoft.datawrangler.viewer.v0+json": {
       "columns": [
        {
         "name": "index",
         "rawType": "int64",
         "type": "integer"
        },
        {
         "name": "rc_last_seen_app_user_id_alias",
         "rawType": "object",
         "type": "string"
        },
        {
         "name": "net_revenue_usd",
         "rawType": "float64",
         "type": "float"
        }
       ],
       "ref": "2d3a1fbf-45cb-4893-a2cf-1c8d4ffbf2b9",
       "rows": [
        [
         "1",
         "your-installation-id",
         "515.423"
        ],
        [
         "2",
         "80406610-984a-11ee-9b74-b7d92423969d",
         "450.0495"
        ],
        [
         "3",
         "57426d50-9e1f-11ee-bc47-f599cd4d4bc3",
         "450.0495"
        ],
        [
         "4",
         "b13ef7f0-8e17-11ee-8699-df251c29b05d",
         "450.0495"
        ],
        [
         "5",
         "552b1c90-938b-11ee-9df2-97f8df417728",
         "450.0495"
        ],
        [
         "6",
         "4eabfe80-867e-11ee-9c9b-abd5a24d82b6",
         "450.0495"
        ],
        [
         "7",
         "1730d9a0-92d9-11ee-a805-47284ca1cdbe",
         "450.0495"
        ],
        [
         "8",
         "3895add0-9187-11ee-87cc-4b460f500ce4",
         "441.558"
        ],
        [
         "9",
         "4aca8510-9af7-11ee-93f4-275c02dbe4cd",
         "441.558"
        ],
        [
         "10",
         "c3776cb0-9f5e-11ee-b2a7-61cae04175d1",
         "441.558"
        ]
       ],
       "shape": {
        "columns": 2,
        "rows": 10
       }
      },
      "text/html": [
       "<div>\n",
       "<style scoped>\n",
       "    .dataframe tbody tr th:only-of-type {\n",
       "        vertical-align: middle;\n",
       "    }\n",
       "\n",
       "    .dataframe tbody tr th {\n",
       "        vertical-align: top;\n",
       "    }\n",
       "\n",
       "    .dataframe thead th {\n",
       "        text-align: right;\n",
       "    }\n",
       "</style>\n",
       "<table border=\"1\" class=\"dataframe\">\n",
       "  <thead>\n",
       "    <tr style=\"text-align: right;\">\n",
       "      <th></th>\n",
       "      <th>rc_last_seen_app_user_id_alias</th>\n",
       "      <th>net_revenue_usd</th>\n",
       "    </tr>\n",
       "  </thead>\n",
       "  <tbody>\n",
       "    <tr>\n",
       "      <th>1</th>\n",
       "      <td>your-installation-id</td>\n",
       "      <td>515.4230</td>\n",
       "    </tr>\n",
       "    <tr>\n",
       "      <th>2</th>\n",
       "      <td>80406610-984a-11ee-9b74-b7d92423969d</td>\n",
       "      <td>450.0495</td>\n",
       "    </tr>\n",
       "    <tr>\n",
       "      <th>3</th>\n",
       "      <td>57426d50-9e1f-11ee-bc47-f599cd4d4bc3</td>\n",
       "      <td>450.0495</td>\n",
       "    </tr>\n",
       "    <tr>\n",
       "      <th>4</th>\n",
       "      <td>b13ef7f0-8e17-11ee-8699-df251c29b05d</td>\n",
       "      <td>450.0495</td>\n",
       "    </tr>\n",
       "    <tr>\n",
       "      <th>5</th>\n",
       "      <td>552b1c90-938b-11ee-9df2-97f8df417728</td>\n",
       "      <td>450.0495</td>\n",
       "    </tr>\n",
       "    <tr>\n",
       "      <th>6</th>\n",
       "      <td>4eabfe80-867e-11ee-9c9b-abd5a24d82b6</td>\n",
       "      <td>450.0495</td>\n",
       "    </tr>\n",
       "    <tr>\n",
       "      <th>7</th>\n",
       "      <td>1730d9a0-92d9-11ee-a805-47284ca1cdbe</td>\n",
       "      <td>450.0495</td>\n",
       "    </tr>\n",
       "    <tr>\n",
       "      <th>8</th>\n",
       "      <td>3895add0-9187-11ee-87cc-4b460f500ce4</td>\n",
       "      <td>441.5580</td>\n",
       "    </tr>\n",
       "    <tr>\n",
       "      <th>9</th>\n",
       "      <td>4aca8510-9af7-11ee-93f4-275c02dbe4cd</td>\n",
       "      <td>441.5580</td>\n",
       "    </tr>\n",
       "    <tr>\n",
       "      <th>10</th>\n",
       "      <td>c3776cb0-9f5e-11ee-b2a7-61cae04175d1</td>\n",
       "      <td>441.5580</td>\n",
       "    </tr>\n",
       "  </tbody>\n",
       "</table>\n",
       "</div>"
      ],
      "text/plain": [
       "          rc_last_seen_app_user_id_alias  net_revenue_usd\n",
       "1                   your-installation-id         515.4230\n",
       "2   80406610-984a-11ee-9b74-b7d92423969d         450.0495\n",
       "3   57426d50-9e1f-11ee-bc47-f599cd4d4bc3         450.0495\n",
       "4   b13ef7f0-8e17-11ee-8699-df251c29b05d         450.0495\n",
       "5   552b1c90-938b-11ee-9df2-97f8df417728         450.0495\n",
       "6   4eabfe80-867e-11ee-9c9b-abd5a24d82b6         450.0495\n",
       "7   1730d9a0-92d9-11ee-a805-47284ca1cdbe         450.0495\n",
       "8   3895add0-9187-11ee-87cc-4b460f500ce4         441.5580\n",
       "9   4aca8510-9af7-11ee-93f4-275c02dbe4cd         441.5580\n",
       "10  c3776cb0-9f5e-11ee-b2a7-61cae04175d1         441.5580"
      ]
     },
     "metadata": {},
     "output_type": "display_data"
    },
    {
     "name": "stderr",
     "output_type": "stream",
     "text": [
      "C:\\Users\\CarlosCasermeiroArjo\\AppData\\Local\\Temp\\ipykernel_18884\\3260277071.py:23: UserWarning: Tight layout not applied. The bottom and top margins cannot be made large enough to accommodate all Axes decorations.\n",
      "  plt.tight_layout()\n"
     ]
    },
    {
     "data": {
      "image/png": "[encoded data removed]",
      "text/plain": [
       "<Figure size 800x300 with 1 Axes>"
      ]
     },
     "metadata": {},
     "output_type": "display_data"
    }
   ],
   "source": [
    "#Top 10 highest revenue users\n",
    "\n",
    "top_users = (\n",
    "    subs.groupby(\"rc_last_seen_app_user_id_alias\")[\"net_revenue_usd\"]\n",
    "        .sum()\n",
    "        .sort_values(ascending=False)   # ordenar de mayor a menor\n",
    "        .reset_index()\n",
    ")\n",
    "\n",
    "top_users.index = top_users.index + 1\n",
    "\n",
    "display(top_users.head(10))\n",
    "\n",
    "import matplotlib.pyplot as plt\n",
    "\n",
    "plt.figure(figsize=(8,3))\n",
    "plt.bar(top_users[\"rc_last_seen_app_user_id_alias\"].head(10),\n",
    "        top_users[\"net_revenue_usd\"].head(10))\n",
    "plt.title(\"Top 10 users per revenue\")\n",
    "plt.xlabel(\"Users\")\n",
    "plt.ylabel(\"Revenue (USD)\")\n",
    "plt.xticks(rotation=45)\n",
    "plt.tight_layout()\n",
    "plt.show()\n"
   ]
  },
  {
   "cell_type": "code",
   "execution_count": 54,
   "id": "bf246087",
   "metadata": {},
   "outputs": [
    {
     "name": "stdout",
     "output_type": "stream",
     "text": [
      "Users acquired in July 2024: 4653\n",
      "Revenue total cohorte (USD): 85,460.95\n",
      " LTV (USD per user): 18.37\n"
     ]
    }
   ],
   "source": [
    "# COHORTE JULIO 2024 + LTV \n",
    "\n",
    "import pandas as pd\n",
    "import numpy as np\n",
    "\n",
    "\n",
    "assert 'subs' in globals(), \"Primero ejecuta la celda que carga 'subscripciones_clean.csv'.\"\n",
    "\n",
    "\n",
    "if \"first_seen_time\" in subs.columns:\n",
    "    if subs[\"first_seen_time\"].dtype == object:\n",
    "        subs[\"first_seen_time\"] = pd.to_datetime(subs[\"first_seen_time\"], errors=\"coerce\")\n",
    "    install_col = \"first_seen_time\"\n",
    "else:\n",
    "    install_col = \"start_time\"\n",
    "\n",
    "\n",
    "start_july = pd.Timestamp(\"2024-07-01\")\n",
    "end_july   = pd.Timestamp(\"2024-08-01\")\n",
    "\n",
    "\n",
    "subs[\"install_date\"] = subs[install_col]\n",
    "july_mask = (subs[\"install_date\"] >= start_july) & (subs[\"install_date\"] < end_july)\n",
    "july_users = subs.loc[july_mask, \"rc_last_seen_app_user_id_alias\"].dropna().unique()\n",
    "acquired_users = len(july_users)\n",
    "print(f\"Users acquired in July 2024: {acquired_users}\")\n",
    "\n",
    "\n",
    "if acquired_users > 0:\n",
    "    cohort_subs = subs[subs[\"rc_last_seen_app_user_id_alias\"].isin(july_users)].copy()\n",
    "    revenue_cohort_usd = float(cohort_subs[\"net_revenue_usd\"].sum())\n",
    "    LTV_usd = revenue_cohort_usd / acquired_users\n",
    "else:\n",
    "    cohort_subs = subs.iloc[0:0].copy()\n",
    "    revenue_cohort_usd = 0.0\n",
    "    LTV_usd = np.nan\n",
    "    print(\"No hay usuarios con instalación en julio 2024. Revisa el mes/fechas o elige otra cohorte.\")\n",
    "\n",
    "print(f\"Revenue total cohorte (USD): {revenue_cohort_usd:,.2f}\")\n",
    "print(f\" LTV (USD per user): {('NaN' if pd.isna(LTV_usd) else round(LTV_usd, 2))}\")\n"
   ]
  },
  {
   "cell_type": "code",
   "execution_count": 50,
   "id": "1475831d",
   "metadata": {},
   "outputs": [
    {
     "name": "stdout",
     "output_type": "stream",
     "text": [
      "Total investment for July (EUR): 132,189.89\n",
      "Total clicks for July: 76,297\n",
      " CPC (EUR por click): 1.7326\n"
     ]
    }
   ],
   "source": [
    "# CPC (Cost per Click) para julio 2024\n",
    "\n",
    "\n",
    "inv_july = invest[(invest[\"event_date\"] >= start_july) & (invest[\"event_date\"] < end_july)].copy()\n",
    "\n",
    "\n",
    "total_investment_eur = inv_july[\"investment\"].sum()\n",
    "total_clicks = inv_july[\"clicks\"].sum()\n",
    "\n",
    "\n",
    "CPC = (total_investment_eur / total_clicks) if total_clicks > 0 else np.nan\n",
    "\n",
    "print(f\"Total investment for July (EUR): {total_investment_eur:,.2f}\")\n",
    "print(f\"Total clicks for July: {total_clicks:,}\")\n",
    "print(f\" CPC (EUR por click): {CPC:.4f}\")\n"
   ]
  },
  {
   "cell_type": "code",
   "execution_count": 49,
   "id": "742c12f4",
   "metadata": {},
   "outputs": [
    {
     "name": "stdout",
     "output_type": "stream",
     "text": [
      "Total investment for July (EUR): 132,189.89\n",
      "Total impressions for July: 531,813\n",
      " CPI (EUR por impresión): 0.24856462\n"
     ]
    }
   ],
   "source": [
    "# CPI (Cost per Impression) para julio 2024\n",
    "\n",
    "\n",
    "total_impressions = inv_july[\"impressions\"].sum()\n",
    "\n",
    "\n",
    "CPI = (total_investment_eur / total_impressions) if total_impressions > 0 else np.nan\n",
    "\n",
    "print(f\"Total investment for July (EUR): {total_investment_eur:,.2f}\")\n",
    "print(f\"Total impressions for July: {total_impressions:,}\")\n",
    "print(f\" CPI (EUR por impresión): {CPI:.8f}\")\n"
   ]
  },
  {
   "cell_type": "code",
   "execution_count": 43,
   "id": "80de56b0",
   "metadata": {},
   "outputs": [
    {
     "name": "stdout",
     "output_type": "stream",
     "text": [
      "Users adquired in July 2024: 4653\n",
      "Total revenue  cohorte Julio (USD): 85,460.95\n"
     ]
    }
   ],
   "source": [
    "# Revenue total de la cohorte Julio 2024\n",
    "\n",
    "\n",
    "cohort_subs = subs[subs[\"rc_last_seen_app_user_id_alias\"].isin(july_users)].copy()\n",
    "\n",
    "\n",
    "revenue_cohort_usd = cohort_subs[\"net_revenue_usd\"].sum()\n",
    "\n",
    "print(f\"Users adquired in July 2024: {acquired_users}\")\n",
    "print(f\"Total revenue  cohorte Julio (USD): {revenue_cohort_usd:,.2f}\")\n"
   ]
  },
  {
   "cell_type": "code",
   "execution_count": 55,
   "id": "e7343962",
   "metadata": {},
   "outputs": [
    {
     "name": "stdout",
     "output_type": "stream",
     "text": [
      "Total investment  in July (EUR): 132,189.89\n",
      "Users acquired in July: 4653\n",
      " CPA (EUR by acquisition): 28.41\n"
     ]
    }
   ],
   "source": [
    "# CPA (Cost per Acquisition) para cohorte Julio 2024\n",
    "\n",
    "\n",
    "CPA = (total_investment_eur / acquired_users) if acquired_users > 0 else np.nan\n",
    "\n",
    "print(f\"Total investment  in July (EUR): {total_investment_eur:,.2f}\")\n",
    "print(f\"Users acquired in July: {acquired_users}\")\n",
    "print(f\" CPA (EUR by acquisition): {CPA:.2f}\")\n"
   ]
  },
  {
   "cell_type": "code",
   "execution_count": 57,
   "id": "7831d438",
   "metadata": {},
   "outputs": [
    {
     "name": "stdout",
     "output_type": "stream",
     "text": [
      "Revenue cohorte Julio (USD): 85,460.95\n",
      "Investment July (EUR): 132,189.89\n",
      "Revenue converted to EUR (FX=0.92): 78,624.08\n",
      " ROAS (rev€ / inv€): 0.595   (>=1 = profitable)\n"
     ]
    }
   ],
   "source": [
    "# ROAS para cohorte Julio 2024\n",
    "\n",
    "\n",
    "FX_USD_TO_EUR = 0.92  \n",
    "\n",
    "\n",
    "revenue_cohort_eur = revenue_cohort_usd * FX_USD_TO_EUR\n",
    "\n",
    "\n",
    "ROAS = (revenue_cohort_eur / total_investment_eur) if total_investment_eur > 0 else np.nan\n",
    "\n",
    "print(f\"Revenue cohorte Julio (USD): {revenue_cohort_usd:,.2f}\")\n",
    "print(f\"Investment July (EUR): {total_investment_eur:,.2f}\")\n",
    "print(f\"Revenue converted to EUR (FX={FX_USD_TO_EUR}): {revenue_cohort_eur:,.2f}\")\n",
    "print(f\" ROAS (rev€ / inv€): {ROAS:.3f}   (>=1 = profitable)\")\n"
   ]
  },
  {
   "cell_type": "markdown",
   "id": "1f646484",
   "metadata": {},
   "source": [
    "# Are we profitable? If not, are we on track to becoming profitable? \n",
    "\n",
    "At this point, the July cohort is not yet profitable .  \n",
    "The total revenue generated by July users the amount amounts to **$85,460.95**, while the advertising investment was **€132,189.89**,  \n",
    "which results in a **ROAS of 0.595 (<1)**. The average **LTV per user ($18.37)** is also below the **CPA (€28.41)**,  \n",
    "meaning that each user currently costs more to acquire than the revenue they have generated to the company.\n",
    "\n",
    "However, the revenue trend is increasing month by month.  \n",
    "This indicates that although the campaign is not yet profitable, the July cohort is on track to approach breakeven.  \n",
    "If retention and monetization continue improving at the current pace, the campaign could eventually become profitable.  \n",
    "\n",
    "\n"
   ]
  },
  {
   "cell_type": "code",
   "execution_count": 58,
   "id": "da86e32d",
   "metadata": {},
   "outputs": [
    {
     "name": "stdout",
     "output_type": "stream",
     "text": [
      "Users acquired in July 2024: 4653\n"
     ]
    },
    {
     "data": {
      "application/vnd.microsoft.datawrangler.viewer.v0+json": {
       "columns": [
        {
         "name": "index",
         "rawType": "int64",
         "type": "integer"
        },
        {
         "name": "month",
         "rawType": "datetime64[ns]",
         "type": "datetime"
        },
        {
         "name": "net_revenue_usd",
         "rawType": "float64",
         "type": "float"
        },
        {
         "name": "cum_rev_usd",
         "rawType": "float64",
         "type": "float"
        }
       ],
       "ref": "f2625a8a-70d1-4b2d-9b84-2217289e16ca",
       "rows": [
        [
         "5",
         "2024-07-01 00:00:00",
         "28828.795019876772",
         "28828.795019876772"
        ],
        [
         "6",
         "2024-08-01 00:00:00",
         "22890.717801296323",
         "51719.51282117309"
        ],
        [
         "7",
         "2024-09-01 00:00:00",
         "12865.585365803172",
         "64585.09818697626"
        ],
        [
         "8",
         "2024-10-01 00:00:00",
         "9159.642796781185",
         "73744.74098375745"
        ],
        [
         "9",
         "2024-11-01 00:00:00",
         "6401.2991196369685",
         "80146.04010339442"
        ],
        [
         "10",
         "2024-12-01 00:00:00",
         "5252.19449535333",
         "85398.23459874775"
        ]
       ],
       "shape": {
        "columns": 3,
        "rows": 6
       }
      },
      "text/html": [
       "<div>\n",
       "<style scoped>\n",
       "    .dataframe tbody tr th:only-of-type {\n",
       "        vertical-align: middle;\n",
       "    }\n",
       "\n",
       "    .dataframe tbody tr th {\n",
       "        vertical-align: top;\n",
       "    }\n",
       "\n",
       "    .dataframe thead th {\n",
       "        text-align: right;\n",
       "    }\n",
       "</style>\n",
       "<table border=\"1\" class=\"dataframe\">\n",
       "  <thead>\n",
       "    <tr style=\"text-align: right;\">\n",
       "      <th></th>\n",
       "      <th>month</th>\n",
       "      <th>net_revenue_usd</th>\n",
       "      <th>cum_rev_usd</th>\n",
       "    </tr>\n",
       "  </thead>\n",
       "  <tbody>\n",
       "    <tr>\n",
       "      <th>5</th>\n",
       "      <td>2024-07-01</td>\n",
       "      <td>28828.795020</td>\n",
       "      <td>28828.795020</td>\n",
       "    </tr>\n",
       "    <tr>\n",
       "      <th>6</th>\n",
       "      <td>2024-08-01</td>\n",
       "      <td>22890.717801</td>\n",
       "      <td>51719.512821</td>\n",
       "    </tr>\n",
       "    <tr>\n",
       "      <th>7</th>\n",
       "      <td>2024-09-01</td>\n",
       "      <td>12865.585366</td>\n",
       "      <td>64585.098187</td>\n",
       "    </tr>\n",
       "    <tr>\n",
       "      <th>8</th>\n",
       "      <td>2024-10-01</td>\n",
       "      <td>9159.642797</td>\n",
       "      <td>73744.740984</td>\n",
       "    </tr>\n",
       "    <tr>\n",
       "      <th>9</th>\n",
       "      <td>2024-11-01</td>\n",
       "      <td>6401.299120</td>\n",
       "      <td>80146.040103</td>\n",
       "    </tr>\n",
       "    <tr>\n",
       "      <th>10</th>\n",
       "      <td>2024-12-01</td>\n",
       "      <td>5252.194495</td>\n",
       "      <td>85398.234599</td>\n",
       "    </tr>\n",
       "  </tbody>\n",
       "</table>\n",
       "</div>"
      ],
      "text/plain": [
       "        month  net_revenue_usd   cum_rev_usd\n",
       "5  2024-07-01     28828.795020  28828.795020\n",
       "6  2024-08-01     22890.717801  51719.512821\n",
       "7  2024-09-01     12865.585366  64585.098187\n",
       "8  2024-10-01      9159.642797  73744.740984\n",
       "9  2024-11-01      6401.299120  80146.040103\n",
       "10 2024-12-01      5252.194495  85398.234599"
      ]
     },
     "metadata": {},
     "output_type": "display_data"
    }
   ],
   "source": [
    "# LTV Prediction \n",
    "\n",
    "import pandas as pd\n",
    "import numpy as np\n",
    "\n",
    "\n",
    "assert 'subs' in globals(), \"Primero ejecuta la celda donde cargas 'subscripciones_clean.csv' en la variable 'subs'.\"\n",
    "required_cols = {\"rc_last_seen_app_user_id_alias\",\"start_time\",\"net_revenue_usd\"}\n",
    "missing = required_cols - set(subs.columns)\n",
    "assert not missing, f\"Faltan columnas en 'subs': {missing}\"\n",
    "\n",
    "\n",
    "if not pd.api.types.is_datetime64_any_dtype(subs[\"start_time\"]):\n",
    "    subs[\"start_time\"] = pd.to_datetime(subs[\"start_time\"], errors=\"coerce\")\n",
    "\n",
    "try:\n",
    "    subs[\"start_time\"] = subs[\"start_time\"].dt.tz_localize(None)\n",
    "except AttributeError:\n",
    "    \n",
    "    pass\n",
    "\n",
    "\n",
    "install_col = \"first_seen_time\" if \"first_seen_time\" in subs.columns else \"start_time\"\n",
    "if install_col == \"first_seen_time\":\n",
    "    if not pd.api.types.is_datetime64_any_dtype(subs[\"first_seen_time\"]):\n",
    "        subs[\"first_seen_time\"] = pd.to_datetime(subs[\"first_seen_time\"], errors=\"coerce\")\n",
    "    try:\n",
    "        subs[\"first_seen_time\"] = subs[\"first_seen_time\"].dt.tz_localize(None)\n",
    "    except AttributeError:\n",
    "        pass\n",
    "\n",
    "start_july = pd.Timestamp(\"2024-07-01\")\n",
    "end_july   = pd.Timestamp(\"2024-08-01\")\n",
    "\n",
    "subs[\"install_date\"] = subs[install_col]\n",
    "july_mask = (subs[\"install_date\"] >= start_july) & (subs[\"install_date\"] < end_july)\n",
    "july_users = subs.loc[july_mask, \"rc_last_seen_app_user_id_alias\"].dropna().unique()\n",
    "acquired_users = len(july_users)\n",
    "\n",
    "print(f\"Users acquired in July 2024: {acquired_users}\")\n",
    "\n",
    "\n",
    "cohort_subs = subs[subs[\"rc_last_seen_app_user_id_alias\"].isin(july_users)].copy()\n",
    "\n",
    "\n",
    "start_2024 = pd.Timestamp(\"2024-01-01\")\n",
    "end_2024   = pd.Timestamp(\"2025-01-01\")\n",
    "\n",
    "cohort_2024 = cohort_subs[(cohort_subs[\"start_time\"] >= start_2024) & \n",
    "                          (cohort_subs[\"start_time\"] < end_2024)].copy()\n",
    "\n",
    "\n",
    "cohort_2024[\"month\"] = cohort_2024[\"start_time\"].dt.to_period(\"M\").dt.to_timestamp()\n",
    "monthly_2024 = (cohort_2024.groupby(\"month\")[\"net_revenue_usd\"]\n",
    "                .sum().reset_index())\n",
    "monthly_2024 = monthly_2024[monthly_2024[\"month\"] >= start_july].copy()\n",
    "monthly_2024[\"cum_rev_usd\"] = monthly_2024[\"net_revenue_usd\"].cumsum()\n",
    "\n",
    "\n",
    "if len(monthly_2024) == 0:\n",
    "    print(\" La cohorte de julio no tiene revenue registrado en 2024 (jul–dic). Revisa las fechas o la cohorte.\")\n",
    "else:\n",
    "    \n",
    "    monthly_2024.index = monthly_2024.index + 1\n",
    "    display(monthly_2024)\n"
   ]
  },
  {
   "cell_type": "code",
   "execution_count": 60,
   "id": "b869f006",
   "metadata": {},
   "outputs": [
    {
     "name": "stdout",
     "output_type": "stream",
     "text": [
      "Projected LTV to June 2025 (July cohort): $155,697.11\n"
     ]
    }
   ],
   "source": [
    "import numpy as np\n",
    "\n",
    "X = np.arange(len(monthly_2024)).astype(float)\n",
    "y = monthly_2024[\"cum_rev_usd\"].values.astype(float)\n",
    "\n",
    "if len(X) >= 2:\n",
    "    m, b = np.polyfit(X, y, 1)\n",
    "    future_steps = 6  # Ene→Jun 2025\n",
    "    X_future = np.arange(len(X), len(X) + future_steps)\n",
    "    y_future = m*X_future + b\n",
    "    ltv_jun_2025 = float(y_future[-1])\n",
    "else:\n",
    "    y_future = []\n",
    "    ltv_jun_2025 = float(y[-1]) if len(y) else 0.0\n",
    "\n",
    "print(f\"Projected LTV to June 2025 (July cohort): ${ltv_jun_2025:,.2f}\")\n"
   ]
  },
  {
   "cell_type": "markdown",
   "id": "0cec5345",
   "metadata": {},
   "source": [
    "Using the July 2024 cohort and the revenue they generated during 2024, I built a monthly cumulative revenue series and applied a linear projection. \n",
    "\n",
    "The model predicts that the LTV of this cohort will reach approximately $155,697.11 by June 2025. \n",
    "\n",
    "This projection suggests that while current profitability is below breakeven, the upward revenue trend indicates potential for improved monetization in the following months."
   ]
  }
 ],
 "metadata": {
  "kernelspec": {
   "display_name": "Python 3",
   "language": "python",
   "name": "python3"
  },
  "language_info": {
   "codemirror_mode": {
    "name": "ipython",
    "version": 3
   },
   "file_extension": ".py",
   "mimetype": "text/x-python",
   "name": "python",
   "nbconvert_exporter": "python",
   "pygments_lexer": "ipython3",
   "version": "3.13.7"
  }
 },
 "nbformat": 4,
 "nbformat_minor": 5
}
